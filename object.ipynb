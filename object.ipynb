{
 "cells": [
  {
   "cell_type": "code",
   "execution_count": null,
   "metadata": {},
   "outputs": [],
   "source": [
    "import cv2\n",
    "import matplotlib.pyplot as plt\n",
    "import numpy as np\n",
    "model = cv2.dnn.readNetFromTensorflow('model/frozen_inference_graph.pb', 'model/ssd_mobilenet_v2_coco_2018_03_29.pbtxt')\n",
    "\n",
    "# load the COCO class names\n",
    "with open('model/object_detection_classes_coco.txt', 'r') as f:\n",
    "    class_names = f.read().split('\\n')\n",
    "cap = cv2.VideoCapture(0)\n",
    "\n",
    "while True:\n",
    "    COLORS = np.random.uniform(0, 255, size=(len(class_names), 3))\n",
    "    \n",
    "    ret , image = cap.read()\n",
    "    if not ret :\n",
    "        break\n",
    "    image_height, image_width, _ = image.shape\n",
    "\n",
    "    model.setInput(cv2.dnn.blobFromImage(image, size=(300, 300), swapRB=True, crop=False))\n",
    "    output = model.forward()\n",
    "\n",
    "    for detection in output[0,0,:,:]:\n",
    "        score = float(detection[2])\n",
    "        if score > 0.6:\n",
    "            class_id = detection[1]\n",
    "            class_name = class_names[int(class_id)-1]\n",
    "            color = COLORS[int(class_id)]\n",
    "\n",
    "            left = detection[3] * image_width\n",
    "            top = detection[4] * image_height\n",
    "            right = detection[5] * image_width\n",
    "            bottom = detection[6] * image_height\n",
    "            \n",
    "            cv2.rectangle(image, (int(left), int(top)), (int(right), int(bottom)), color, thickness=2)\n",
    "            cv2.putText(image, class_name, (int(left), int(top - 5)), cv2.FONT_HERSHEY_SIMPLEX, 1, color, 2)\n",
    "            print(class_name, round(score*100,2),\"%\")\n",
    "    cv2.imshow('image',image)\n",
    "    if cv2.waitKey(1) & 0xFF == 27:\n",
    "        break\n",
    "cv2.destroyAllWindows()  "
   ]
  }
 ],
 "metadata": {
  "language_info": {
   "name": "python"
  },
  "orig_nbformat": 4
 },
 "nbformat": 4,
 "nbformat_minor": 2
}
